{
 "cells": [
  {
   "cell_type": "code",
   "execution_count": 1,
   "id": "18b84a99",
   "metadata": {},
   "outputs": [
    {
     "name": "stdout",
     "output_type": "stream",
     "text": [
      "Requirement already satisfied: nltk in c:\\users\\adity\\.conda\\envs\\rawat\\lib\\site-packages (3.9.1)\n",
      "Requirement already satisfied: click in c:\\users\\adity\\.conda\\envs\\rawat\\lib\\site-packages (from nltk) (8.1.8)\n",
      "Requirement already satisfied: joblib in c:\\users\\adity\\.conda\\envs\\rawat\\lib\\site-packages (from nltk) (1.4.2)\n",
      "Requirement already satisfied: regex>=2021.8.3 in c:\\users\\adity\\.conda\\envs\\rawat\\lib\\site-packages (from nltk) (2024.11.6)\n",
      "Requirement already satisfied: tqdm in c:\\users\\adity\\.conda\\envs\\rawat\\lib\\site-packages (from nltk) (4.67.1)\n",
      "Requirement already satisfied: colorama in c:\\users\\adity\\.conda\\envs\\rawat\\lib\\site-packages (from click->nltk) (0.4.6)\n",
      "Note: you may need to restart the kernel to use updated packages.\n"
     ]
    }
   ],
   "source": [
    "pip install nltk"
   ]
  },
  {
   "cell_type": "code",
   "execution_count": 4,
   "id": "c81a16c8",
   "metadata": {},
   "outputs": [
    {
     "name": "stderr",
     "output_type": "stream",
     "text": [
      "[nltk_data] Downloading package stopwords to\n",
      "[nltk_data]     C:\\Users\\adity\\AppData\\Roaming\\nltk_data...\n",
      "[nltk_data]   Package stopwords is already up-to-date!\n",
      "[nltk_data] Downloading package wordnet to\n",
      "[nltk_data]     C:\\Users\\adity\\AppData\\Roaming\\nltk_data...\n",
      "[nltk_data]   Package wordnet is already up-to-date!\n"
     ]
    },
    {
     "name": "stdout",
     "output_type": "stream",
     "text": [
      "Data preprocessing completed and saved.\n"
     ]
    }
   ],
   "source": [
    "import pandas as pd\n",
    "import re\n",
    "import nltk\n",
    "from nltk.corpus import stopwords\n",
    "from nltk.stem import WordNetLemmatizer\n",
    "from sklearn.model_selection import train_test_split\n",
    "from tensorflow.keras.preprocessing.text import Tokenizer\n",
    "from tensorflow.keras.preprocessing.sequence import pad_sequences\n",
    "import pickle\n",
    "\n",
    "nltk.download('stopwords')\n",
    "nltk.download('wordnet')\n",
    "\n",
    "def clean_text(text):\n",
    "    # Remove HTML tags\n",
    "    text = re.sub(r'<[^>]+>', '', text)\n",
    "    # Remove special characters and numbers\n",
    "    text = re.sub(r'[^a-zA-Z\\s]', '', text)\n",
    "    # Convert to lowercase\n",
    "    text = text.lower()\n",
    "    # Remove stopwords and lemmatize\n",
    "    stop_words = set(stopwords.words('english'))\n",
    "    lemmatizer = WordNetLemmatizer()\n",
    "    words = text.split()\n",
    "    words = [lemmatizer.lemmatize(word) for word in words if word not in stop_words]\n",
    "    return ' '.join(words)\n",
    "\n",
    "def preprocess_data():\n",
    "    # Load data\n",
    "    df = pd.read_csv('../data/raw/IMDB Dataset.csv')\n",
    "    \n",
    "    # Clean reviews\n",
    "    df['cleaned_review'] = df['review'].apply(clean_text)\n",
    "    \n",
    "    # Convert sentiment to binary (0 for negative, 1 for positive)\n",
    "    df['sentiment_label'] = df['sentiment'].apply(lambda x: 1 if x == 'positive' else 0)\n",
    "    \n",
    "    # Split data\n",
    "    train_df, temp_df = train_test_split(df, test_size=0.3, random_state=42)\n",
    "    val_df, test_df = train_test_split(temp_df, test_size=0.5, random_state=42)\n",
    "    \n",
    "    # Tokenization\n",
    "    tokenizer = Tokenizer(num_words=10000, oov_token='<OOV>')\n",
    "    tokenizer.fit_on_texts(train_df['cleaned_review'])\n",
    "    \n",
    "    # Convert texts to sequences\n",
    "    train_sequences = tokenizer.texts_to_sequences(train_df['cleaned_review'])\n",
    "    val_sequences = tokenizer.texts_to_sequences(val_df['cleaned_review'])\n",
    "    test_sequences = tokenizer.texts_to_sequences(test_df['cleaned_review'])\n",
    "    \n",
    "    # Padding sequences\n",
    "    max_length = 200\n",
    "    train_padded = pad_sequences(train_sequences, maxlen=max_length, padding='post', truncating='post')\n",
    "    val_padded = pad_sequences(val_sequences, maxlen=max_length, padding='post', truncating='post')\n",
    "    test_padded = pad_sequences(test_sequences, maxlen=max_length, padding='post', truncating='post')\n",
    "    \n",
    "    # Save processed data\n",
    "    processed_data = {\n",
    "        'train': {\n",
    "            'texts': train_padded,\n",
    "            'labels': train_df['sentiment_label'].values\n",
    "        },\n",
    "        'val': {\n",
    "            'texts': val_padded,\n",
    "            'labels': val_df['sentiment_label'].values\n",
    "        },\n",
    "        'test': {\n",
    "            'texts': test_padded,\n",
    "            'labels': test_df['sentiment_label'].values\n",
    "        },\n",
    "        'tokenizer': tokenizer\n",
    "    }\n",
    "    \n",
    "    with open('../data/processed/processed_data.pkl', 'wb') as f:\n",
    "        pickle.dump(processed_data, f)\n",
    "    \n",
    "    print(\"Data preprocessing completed and saved.\")\n",
    "\n",
    "if __name__ == '__main__':\n",
    "    preprocess_data()"
   ]
  }
 ],
 "metadata": {
  "kernelspec": {
   "display_name": "Python 3",
   "language": "python",
   "name": "python3"
  },
  "language_info": {
   "codemirror_mode": {
    "name": "ipython",
    "version": 3
   },
   "file_extension": ".py",
   "mimetype": "text/x-python",
   "name": "python",
   "nbconvert_exporter": "python",
   "pygments_lexer": "ipython3",
   "version": "3.11.11"
  }
 },
 "nbformat": 4,
 "nbformat_minor": 5
}
