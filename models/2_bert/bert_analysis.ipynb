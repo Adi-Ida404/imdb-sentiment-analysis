{
 "cells": [
  {
   "cell_type": "code",
   "execution_count": 10,
   "id": "c77f0624",
   "metadata": {},
   "outputs": [],
   "source": [
    "import torch\n",
    "import numpy as np\n",
    "import pandas as pd\n",
    "import matplotlib.pyplot as plt\n",
    "import seaborn as sns\n",
    "from sklearn.metrics import confusion_matrix, classification_report, f1_score, accuracy_score, precision_score, recall_score\n",
    "from sklearn.model_selection import train_test_split\n",
    "from transformers import BertTokenizer, BertForSequenceClassification\n",
    "from torch.utils.data import DataLoader, TensorDataset"
   ]
  },
  {
   "cell_type": "code",
   "execution_count": 2,
   "id": "4e53907d",
   "metadata": {},
   "outputs": [
    {
     "name": "stdout",
     "output_type": "stream",
     "text": [
      "Using device: cuda\n"
     ]
    }
   ],
   "source": [
    "# Set device\n",
    "device = torch.device('cuda' if torch.cuda.is_available() else 'cpu')\n",
    "print(f\"Using device: {device}\")"
   ]
  },
  {
   "cell_type": "code",
   "execution_count": 17,
   "id": "7d0f5dbc",
   "metadata": {},
   "outputs": [],
   "source": [
    "# Constants\n",
    "MAX_LEN = 128  # Should match what you used during training\n",
    "MODEL_PATH = './bert_sentiment_model'  # Path to your saved model\n",
    "TEST_SAMPLE_SIZE = 7500  # Number of samples to use for evaluation"
   ]
  },
  {
   "cell_type": "code",
   "execution_count": 12,
   "id": "f17cb173",
   "metadata": {},
   "outputs": [],
   "source": [
    "# 1. Load IMDB Dataset\n",
    "def load_imdb_sample(n_samples=TEST_SAMPLE_SIZE):\n",
    "    data = pd.read_csv('../../data/raw/IMDB Dataset.csv')\n",
    "    # Assuming your CSV has 'review' and 'sentiment' columns\n",
    "    data['label'] = data['sentiment'].map({'negative': 0, 'positive': 1})\n",
    "    df = pd.DataFrame({\n",
    "        'text': data['review'],\n",
    "        'label': data['label']\n",
    "    })\n",
    "    return df.sample(n_samples, random_state=42)"
   ]
  },
  {
   "cell_type": "code",
   "execution_count": 13,
   "id": "8da13abf",
   "metadata": {},
   "outputs": [],
   "source": [
    "# 2. Load Model Function\n",
    "def load_sentiment_model(model_path):\n",
    "    \"\"\"Load the trained model and tokenizer\"\"\"\n",
    "    tokenizer = BertTokenizer.from_pretrained(model_path)\n",
    "    model = BertForSequenceClassification.from_pretrained(model_path)\n",
    "    model.to(device)\n",
    "    return tokenizer, model"
   ]
  },
  {
   "cell_type": "code",
   "execution_count": 14,
   "id": "72ce7930",
   "metadata": {},
   "outputs": [],
   "source": [
    "# 3. Prediction Function with Confidence\n",
    "def predict_sentiment(text, tokenizer, model):\n",
    "    \"\"\"Predict sentiment with confidence score\"\"\"\n",
    "    inputs = tokenizer(text, return_tensors=\"pt\", truncation=True, max_length=MAX_LEN, padding=True)\n",
    "    inputs = {k: v.to(device) for k, v in inputs.items()}\n",
    "    \n",
    "    with torch.no_grad():\n",
    "        outputs = model(**inputs)\n",
    "        logits = outputs.logits\n",
    "        probabilities = torch.softmax(logits, dim=1)\n",
    "        confidence, prediction = torch.max(probabilities, dim=1)\n",
    "    \n",
    "    sentiment = \"positive\" if prediction.item() == 1 else \"negative\"\n",
    "    return sentiment, confidence.item()"
   ]
  },
  {
   "cell_type": "code",
   "execution_count": 15,
   "id": "8567abcc",
   "metadata": {},
   "outputs": [],
   "source": [
    "# 4. Comprehensive Evaluation Function\n",
    "def evaluate_model(model, tokenizer, test_texts, test_labels, batch_size=32):\n",
    "    \"\"\"\n",
    "    Evaluate model and print metrics including:\n",
    "    - F1 score, accuracy, precision, recall\n",
    "    - Confusion matrix\n",
    "    - Classification report\n",
    "    \"\"\"\n",
    "    # Tokenize test data\n",
    "    encodings = tokenizer(test_texts.tolist(), truncation=True, padding=True, max_length=MAX_LEN)\n",
    "    input_ids = torch.tensor(encodings['input_ids'])\n",
    "    attention_mask = torch.tensor(encodings['attention_mask'])\n",
    "    labels = torch.tensor(test_labels.tolist())\n",
    "    \n",
    "    # Create dataset and dataloader\n",
    "    dataset = TensorDataset(input_ids, attention_mask, labels)\n",
    "    dataloader = DataLoader(dataset, batch_size=batch_size)\n",
    "    \n",
    "    # Get predictions\n",
    "    model.eval()\n",
    "    all_preds = []\n",
    "    all_labels = []\n",
    "    \n",
    "    with torch.no_grad():\n",
    "        for batch in dataloader:\n",
    "            input_ids, attention_mask, labels = batch\n",
    "            input_ids = input_ids.to(device)\n",
    "            attention_mask = attention_mask.to(device)\n",
    "            \n",
    "            outputs = model(input_ids, attention_mask=attention_mask)\n",
    "            logits = outputs.logits\n",
    "            preds = torch.argmax(logits, dim=1)\n",
    "            \n",
    "            all_preds.extend(preds.cpu().numpy())\n",
    "            all_labels.extend(labels.cpu().numpy())\n",
    "    \n",
    "    # Calculate metrics\n",
    "    accuracy = accuracy_score(all_labels, all_preds)\n",
    "    f1 = f1_score(all_labels, all_preds)\n",
    "    precision = precision_score(all_labels, all_preds)\n",
    "    recall = recall_score(all_labels, all_preds)\n",
    "    \n",
    "    # Print metrics\n",
    "    print(\"\\n\" + \"=\"*50)\n",
    "    print(f\"Model Evaluation Metrics (on {len(all_labels)} samples)\")\n",
    "    print(\"=\"*50)\n",
    "    print(f\"Accuracy: {accuracy:.4f}\")\n",
    "    print(f\"F1 Score: {f1:.4f}\")\n",
    "    print(f\"Precision: {precision:.4f}\")\n",
    "    print(f\"Recall: {recall:.4f}\")\n",
    "    \n",
    "    # Confusion matrix\n",
    "    cm = confusion_matrix(all_labels, all_preds)\n",
    "    plt.figure(figsize=(6, 6))\n",
    "    sns.heatmap(cm, annot=True, fmt='d', cmap='Blues',\n",
    "                xticklabels=['Negative', 'Positive'],\n",
    "                yticklabels=['Negative', 'Positive'])\n",
    "    plt.xlabel('Predicted')\n",
    "    plt.ylabel('Actual')\n",
    "    plt.title('Confusion Matrix')\n",
    "    plt.show()\n",
    "    \n",
    "    # Classification report\n",
    "    print(\"\\nClassification Report:\")\n",
    "    print(classification_report(all_labels, all_preds, target_names=['Negative', 'Positive']))\n",
    "    \n",
    "    return {\n",
    "        'accuracy': accuracy,\n",
    "        'f1_score': f1,\n",
    "        'precision': precision,\n",
    "        'recall': recall,\n",
    "        'confusion_matrix': cm\n",
    "    }"
   ]
  },
  {
   "cell_type": "code",
   "execution_count": 18,
   "id": "3f334d91",
   "metadata": {},
   "outputs": [
    {
     "name": "stdout",
     "output_type": "stream",
     "text": [
      "Loading model...\n",
      "\n",
      "Loading IMDB dataset (7500 samples)...\n",
      "\n",
      "Evaluating model on IMDB dataset...\n",
      "\n",
      "==================================================\n",
      "Model Evaluation Metrics (on 7500 samples)\n",
      "==================================================\n",
      "Accuracy: 0.8935\n",
      "F1 Score: 0.8957\n",
      "Precision: 0.8868\n",
      "Recall: 0.9048\n"
     ]
    },
    {
     "data": {
      "image/png": "[encoded data removed]",
      "text/plain": [
       "<Figure size 600x600 with 2 Axes>"
      ]
     },
     "metadata": {},
     "output_type": "display_data"
    },
    {
     "name": "stdout",
     "output_type": "stream",
     "text": [
      "\n",
      "Classification Report:\n",
      "              precision    recall  f1-score   support\n",
      "\n",
      "    Negative       0.90      0.88      0.89      3708\n",
      "    Positive       0.89      0.90      0.90      3792\n",
      "\n",
      "    accuracy                           0.89      7500\n",
      "   macro avg       0.89      0.89      0.89      7500\n",
      "weighted avg       0.89      0.89      0.89      7500\n",
      "\n",
      "\n",
      "Example Predictions from IMDB dataset:\n",
      "Text: In New York, in a morning close to Christmas, an upper class father an...\n",
      "Sentiment: negative (Confidence: 1.00)\n",
      "--------------------------------------------------------------------------------\n",
      "Text: Guns blasting, buildings exploding, cars crashing, and that's just the...\n",
      "Sentiment: positive (Confidence: 0.99)\n",
      "--------------------------------------------------------------------------------\n",
      "Text: My wife and I watched this movie because we plan to visit Sicily and S...\n",
      "Sentiment: negative (Confidence: 1.00)\n",
      "--------------------------------------------------------------------------------\n",
      "\n",
      "Evaluation complete!\n"
     ]
    }
   ],
   "source": [
    "# 5. Main Execution\n",
    "if __name__ == \"__main__\":\n",
    "    # Load the model\n",
    "    print(\"Loading model...\")\n",
    "    tokenizer, model = load_sentiment_model(MODEL_PATH)\n",
    "    \n",
    "    # Load IMDB dataset\n",
    "    print(f\"\\nLoading IMDB dataset ({TEST_SAMPLE_SIZE} samples)...\")\n",
    "    imdb_df = load_imdb_sample()\n",
    "    \n",
    "    # Split into text and labels\n",
    "    test_texts = imdb_df['text']\n",
    "    test_labels = imdb_df['label']\n",
    "    \n",
    "    # Run evaluation\n",
    "    print(\"\\nEvaluating model on IMDB dataset...\")\n",
    "    metrics = evaluate_model(model, tokenizer, test_texts, test_labels)\n",
    "    \n",
    "    # Example predictions\n",
    "    print(\"\\nExample Predictions from IMDB dataset:\")\n",
    "    sample_texts = imdb_df.sample(3, random_state=42)['text'].tolist()\n",
    "    for text in sample_texts:\n",
    "        sentiment, confidence = predict_sentiment(text, tokenizer, model)\n",
    "        print(f\"Text: {text[:70]}...\")\n",
    "        print(f\"Sentiment: {sentiment} (Confidence: {confidence:.2f})\")\n",
    "        print(\"-\" * 80)\n",
    "    \n",
    "    print(\"\\nEvaluation complete!\")"
   ]
  }
 ],
 "metadata": {
  "kernelspec": {
   "display_name": "Python 3",
   "language": "python",
   "name": "python3"
  },
  "language_info": {
   "codemirror_mode": {
    "name": "ipython",
    "version": 3
   },
   "file_extension": ".py",
   "mimetype": "text/x-python",
   "name": "python",
   "nbconvert_exporter": "python",
   "pygments_lexer": "ipython3",
   "version": "3.11.11"
  }
 },
 "nbformat": 4,
 "nbformat_minor": 5
}
