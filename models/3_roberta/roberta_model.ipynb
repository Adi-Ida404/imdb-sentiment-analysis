{
 "cells": [
  {
   "cell_type": "code",
   "execution_count": 1,
   "id": "551a27de",
   "metadata": {},
   "outputs": [],
   "source": [
    "import torch\n",
    "from torch.utils.data import Dataset, DataLoader\n",
    "from transformers import RobertaTokenizer, RobertaForSequenceClassification\n",
    "from transformers import get_linear_schedule_with_warmup\n",
    "from sklearn.model_selection import train_test_split\n",
    "import pandas as pd\n",
    "import numpy as np\n",
    "from tqdm.auto import tqdm\n",
    "from torch.optim import AdamW\n",
    "from torch.amp import GradScaler, autocast\n",
    "import os\n",
    "import time\n",
    "import sys"
   ]
  },
  {
   "cell_type": "code",
   "execution_count": 2,
   "id": "b66d77d0",
   "metadata": {},
   "outputs": [],
   "source": [
    "# ------------------------ Configurations ------------------------\n",
    "MAX_LEN = 128\n",
    "MODEL_PATH = './roberta_sentiment_model.pt'\n",
    "TEST_SAMPLE_SIZE = 7500\n",
    "BATCH_SIZE = 2  # Lower due to limited VRAM (RTX 2050 4GB)\n",
    "LEARNING_RATE = 2e-5\n",
    "EPOCHS = 3\n",
    "MODEL_NAME = 'roberta-base'\n",
    "GRADIENT_ACCUMULATION_STEPS = 8  # Simulates effective batch size of 16\n",
    "\n",
    "# Device & mixed precision scaler\n",
    "device = torch.device('cuda' if torch.cuda.is_available() else 'cpu')\n",
    "scaler = GradScaler()\n",
    "\n",
    "# Worker config for Windows/Linux compatibility\n",
    "NUM_WORKERS = 0 if os.name == 'nt' else 2"
   ]
  },
  {
   "cell_type": "code",
   "execution_count": 3,
   "id": "51e064ae",
   "metadata": {},
   "outputs": [],
   "source": [
    "# ------------------------ Dataset Class ------------------------\n",
    "class IMDBDataset(Dataset):\n",
    "    def __init__(self, reviews, targets, tokenizer, max_len):\n",
    "        self.reviews = reviews\n",
    "        self.targets = targets\n",
    "        self.tokenizer = tokenizer\n",
    "        self.max_len = max_len\n",
    "\n",
    "    def __len__(self):\n",
    "        return len(self.reviews)\n",
    "\n",
    "    def __getitem__(self, item):\n",
    "        review = str(self.reviews[item])\n",
    "        target = self.targets[item]\n",
    "\n",
    "        encoding = self.tokenizer.encode_plus(\n",
    "            review,\n",
    "            add_special_tokens=True,\n",
    "            max_length=self.max_len,\n",
    "            return_token_type_ids=False,\n",
    "            padding='max_length',\n",
    "            truncation=True,\n",
    "            return_attention_mask=True,\n",
    "            return_tensors='pt'\n",
    "        )\n",
    "\n",
    "        return {\n",
    "            'input_ids': encoding['input_ids'].flatten(),\n",
    "            'attention_mask': encoding['attention_mask'].flatten(),\n",
    "            'targets': torch.tensor(target, dtype=torch.long)\n",
    "        }\n"
   ]
  },
  {
   "cell_type": "code",
   "execution_count": 4,
   "id": "d0f4998e",
   "metadata": {},
   "outputs": [],
   "source": [
    "# ------------------------ Data Loader Creator ------------------------\n",
    "def create_data_loaders(df, tokenizer, max_len, batch_size, test_sample_size):\n",
    "    # Split the dataset into train, val, and test sets\n",
    "    train_df, test_df = train_test_split(df, test_size=test_sample_size, random_state=42)\n",
    "    train_df, val_df = train_test_split(train_df, test_size=0.1, random_state=42)\n",
    "\n",
    "    # Create datasets\n",
    "    train_dataset = IMDBDataset(train_df.review.to_numpy(), train_df.sentiment.to_numpy(), tokenizer, max_len)\n",
    "    val_dataset = IMDBDataset(val_df.review.to_numpy(), val_df.sentiment.to_numpy(), tokenizer, max_len)\n",
    "    test_dataset = IMDBDataset(test_df.review.to_numpy(), test_df.sentiment.to_numpy(), tokenizer, max_len)\n",
    "\n",
    "    # Create loaders\n",
    "    train_loader = DataLoader(train_dataset, batch_size=batch_size, shuffle=True,\n",
    "                              num_workers=NUM_WORKERS, pin_memory=True)\n",
    "    val_loader = DataLoader(val_dataset, batch_size=batch_size, shuffle=False, num_workers=NUM_WORKERS)\n",
    "    test_loader = DataLoader(test_dataset, batch_size=batch_size, shuffle=False, num_workers=NUM_WORKERS,pin_memory=False)\n",
    "\n",
    "    return train_loader, val_loader, test_loader\n"
   ]
  },
  {
   "cell_type": "code",
   "execution_count": 5,
   "id": "324ceacb",
   "metadata": {},
   "outputs": [],
   "source": [
    "# ------------------------ Training Loop ------------------------\n",
    "def train_epoch(model, data_loader, optimizer, device, scheduler, n_examples):\n",
    "    model.train()\n",
    "    losses = []\n",
    "    correct_predictions = 0\n",
    "    autocast_device = 'cuda' if device.type == 'cuda' else 'cpu'\n",
    "\n",
    "    progress_bar = tqdm(enumerate(data_loader), total=len(data_loader), desc=\"Training\")\n",
    "\n",
    "    for batch_idx, batch in progress_bar:\n",
    "        try:\n",
    "            input_ids = batch['input_ids'].to(device, non_blocking=True)\n",
    "            attention_mask = batch['attention_mask'].to(device, non_blocking=True)\n",
    "            targets = batch['targets'].to(device, non_blocking=True)\n",
    "\n",
    "            with autocast(device_type=autocast_device):\n",
    "                outputs = model(input_ids=input_ids, attention_mask=attention_mask, labels=targets)\n",
    "                loss = outputs.loss / GRADIENT_ACCUMULATION_STEPS\n",
    "\n",
    "            scaler.scale(loss).backward()\n",
    "\n",
    "            if (batch_idx + 1) % GRADIENT_ACCUMULATION_STEPS == 0:\n",
    "                scaler.unscale_(optimizer)\n",
    "                torch.nn.utils.clip_grad_norm_(model.parameters(), max_norm=1.0)\n",
    "                scaler.step(optimizer)\n",
    "                scaler.update()\n",
    "                optimizer.zero_grad()\n",
    "                scheduler.step()\n",
    "\n",
    "            logits = outputs.logits\n",
    "            _, preds = torch.max(logits, dim=1)\n",
    "            correct_predictions += torch.sum(preds == targets)\n",
    "            losses.append(loss.item() * GRADIENT_ACCUMULATION_STEPS)\n",
    "\n",
    "            progress_bar.set_postfix({\n",
    "                'loss': np.mean(losses[-10:]),\n",
    "                'acc': f\"{(correct_predictions.double() / ((batch_idx + 1) * BATCH_SIZE) * 100):.1f}%\",\n",
    "                'GPU': f\"{torch.cuda.memory_allocated(device)/1024**2:.0f} MB\"\n",
    "            })\n",
    "\n",
    "            if batch_idx % 50 == 0:\n",
    "                sys.stdout.flush()\n",
    "        except RuntimeError as e:\n",
    "            print(f\"⚠️ Skipping batch {batch_idx} due to error: {e}\")\n",
    "            optimizer.zero_grad(set_to_none=True)\n",
    "            continue\n",
    "\n",
    "    return correct_predictions.double() / n_examples, np.mean(losses)"
   ]
  },
  {
   "cell_type": "code",
   "execution_count": 6,
   "id": "ac285487",
   "metadata": {},
   "outputs": [],
   "source": [
    "# ------------------------ Evaluation Loop ------------------------\n",
    "def eval_model(model, data_loader, device, n_examples):\n",
    "    model.eval()\n",
    "    losses = []\n",
    "    correct_predictions = 0\n",
    "\n",
    "    with torch.no_grad():\n",
    "        for batch in tqdm(data_loader, desc=\"Evaluating\"):\n",
    "            input_ids = batch['input_ids'].to(device)\n",
    "            attention_mask = batch['attention_mask'].to(device)\n",
    "            targets = batch['targets'].to(device)\n",
    "\n",
    "            outputs = model(input_ids=input_ids, attention_mask=attention_mask, labels=targets)\n",
    "            loss = outputs.loss\n",
    "\n",
    "            _, preds = torch.max(outputs.logits, dim=1)\n",
    "            correct_predictions += torch.sum(preds == targets)\n",
    "            losses.append(loss.item())\n",
    "\n",
    "    return correct_predictions.double() / n_examples, np.mean(losses)"
   ]
  },
  {
   "cell_type": "code",
   "execution_count": 7,
   "id": "4c0d6962",
   "metadata": {},
   "outputs": [],
   "source": [
    "# ------------------------ Main Training Routine ------------------------\n",
    "def train_model():\n",
    "    # ✅ Load and preprocess the IMDB dataset\n",
    "    df = pd.read_csv('../../data/raw/IMDB Dataset.csv')  # Make sure this CSV file exists!\n",
    "    df['sentiment'] = df['sentiment'].apply(lambda x: 1 if x == 'positive' else 0)\n",
    "\n",
    "    tokenizer = RobertaTokenizer.from_pretrained(MODEL_NAME)\n",
    "    model = RobertaForSequenceClassification.from_pretrained(MODEL_NAME, num_labels=2).to(device)\n",
    "\n",
    "    train_loader, val_loader, test_loader = create_data_loaders(df, tokenizer, MAX_LEN, BATCH_SIZE, TEST_SAMPLE_SIZE)\n",
    "\n",
    "    optimizer = AdamW(model.parameters(), lr=LEARNING_RATE)\n",
    "    total_steps = len(train_loader) * EPOCHS // GRADIENT_ACCUMULATION_STEPS\n",
    "    scheduler = get_linear_schedule_with_warmup(optimizer, num_warmup_steps=0, num_training_steps=total_steps)\n",
    "\n",
    "    best_accuracy = 0\n",
    "    with open(\"training_log.txt\", \"w\") as f:\n",
    "        f.write(\"Epoch,Train Loss,Train Acc,Val Loss,Val Acc\\n\")\n",
    "\n",
    "    for epoch in range(EPOCHS):\n",
    "        print(f\"\\n{'='*50}\\nEpoch {epoch + 1}/{EPOCHS}\\n{'='*50}\")\n",
    "\n",
    "        try:\n",
    "            epoch_start = time.time()\n",
    "            train_acc, train_loss = train_epoch(model, train_loader, optimizer, device, scheduler, len(train_loader.dataset))\n",
    "            val_acc, val_loss = eval_model(model, val_loader, device, len(val_loader.dataset))\n",
    "            epoch_time = (time.time() - epoch_start) / 60\n",
    "\n",
    "            print(f\"\\nEpoch {epoch + 1} Summary:\")\n",
    "            print(f\"Time: {epoch_time:.1f} min\")\n",
    "            print(f\"Train Loss: {train_loss:.4f} | Acc: {train_acc:.4f}\")\n",
    "            print(f\"Val Loss: {val_loss:.4f} | Acc: {val_acc:.4f}\")\n",
    "\n",
    "            with open(\"training_log.txt\", \"a\") as f:\n",
    "                f.write(f\"{epoch+1},{train_loss:.4f},{train_acc:.4f},{val_loss:.4f},{val_acc:.4f}\\n\")\n",
    "\n",
    "            if val_acc > best_accuracy:\n",
    "                torch.save(model.state_dict(), MODEL_PATH)\n",
    "                best_accuracy = val_acc\n",
    "                print(\"✅ Saved new best model!\")\n",
    "\n",
    "        except Exception as e:\n",
    "            print(f\"\\n❌ Error in epoch {epoch + 1}: {str(e)}\")\n",
    "            with open(\"error_log.txt\", \"a\") as f:\n",
    "                f.write(f\"Epoch {epoch+1}: {str(e)}\\n\")\n",
    "            continue\n",
    "\n",
    "    # ------------------------ Final Test Evaluation ------------------------\n",
    "    print(f\"\\n{'='*50}\\nTesting Best Model...\\n{'='*50}\")\n",
    "    model.load_state_dict(torch.load(MODEL_PATH))\n",
    "    test_acc, test_loss = eval_model(model, test_loader, device, len(test_loader.dataset))\n",
    "    print(f\"\\nTest Results → Loss: {test_loss:.4f} | Accuracy: {test_acc:.4f}\")\n"
   ]
  },
  {
   "cell_type": "code",
   "execution_count": 8,
   "id": "bfd1dfc2",
   "metadata": {},
   "outputs": [
    {
     "name": "stderr",
     "output_type": "stream",
     "text": [
      "Some weights of RobertaForSequenceClassification were not initialized from the model checkpoint at roberta-base and are newly initialized: ['classifier.dense.bias', 'classifier.dense.weight', 'classifier.out_proj.bias', 'classifier.out_proj.weight']\n",
      "You should probably TRAIN this model on a down-stream task to be able to use it for predictions and inference.\n"
     ]
    },
    {
     "name": "stdout",
     "output_type": "stream",
     "text": [
      "\n",
      "==================================================\n",
      "Epoch 1/3\n",
      "==================================================\n"
     ]
    },
    {
     "data": {
      "application/vnd.jupyter.widget-view+json": {
       "model_id": "dd214c6247574156a1c8efec607cdca8",
       "version_major": 2,
       "version_minor": 0
      },
      "text/plain": [
       "Training:   0%|          | 0/19125 [00:00<?, ?it/s]"
      ]
     },
     "metadata": {},
     "output_type": "display_data"
    },
    {
     "data": {
      "application/vnd.jupyter.widget-view+json": {
       "model_id": "59ba03d81cfd4707a948ed04bcb0eee7",
       "version_major": 2,
       "version_minor": 0
      },
      "text/plain": [
       "Evaluating:   0%|          | 0/2125 [00:00<?, ?it/s]"
      ]
     },
     "metadata": {},
     "output_type": "display_data"
    },
    {
     "name": "stdout",
     "output_type": "stream",
     "text": [
      "\n",
      "Epoch 1 Summary:\n",
      "Time: 29.6 min\n",
      "Train Loss: 0.3031 | Acc: 0.8785\n",
      "Val Loss: 0.2534 | Acc: 0.9042\n",
      "✅ Saved new best model!\n",
      "\n",
      "==================================================\n",
      "Epoch 2/3\n",
      "==================================================\n"
     ]
    },
    {
     "data": {
      "application/vnd.jupyter.widget-view+json": {
       "model_id": "930cf2cf6b2b4a66b36ed5e56a8ad2e6",
       "version_major": 2,
       "version_minor": 0
      },
      "text/plain": [
       "Training:   0%|          | 0/19125 [00:00<?, ?it/s]"
      ]
     },
     "metadata": {},
     "output_type": "display_data"
    },
    {
     "data": {
      "application/vnd.jupyter.widget-view+json": {
       "model_id": "dfb737d4a1564defbf35a70173df0880",
       "version_major": 2,
       "version_minor": 0
      },
      "text/plain": [
       "Evaluating:   0%|          | 0/2125 [00:00<?, ?it/s]"
      ]
     },
     "metadata": {},
     "output_type": "display_data"
    },
    {
     "name": "stdout",
     "output_type": "stream",
     "text": [
      "\n",
      "Epoch 2 Summary:\n",
      "Time: 25.4 min\n",
      "Train Loss: 0.2023 | Acc: 0.9313\n",
      "Val Loss: 0.3024 | Acc: 0.9080\n",
      "✅ Saved new best model!\n",
      "\n",
      "==================================================\n",
      "Epoch 3/3\n",
      "==================================================\n"
     ]
    },
    {
     "data": {
      "application/vnd.jupyter.widget-view+json": {
       "model_id": "df976c8fd863423ca435a4e1c134db75",
       "version_major": 2,
       "version_minor": 0
      },
      "text/plain": [
       "Training:   0%|          | 0/19125 [00:00<?, ?it/s]"
      ]
     },
     "metadata": {},
     "output_type": "display_data"
    },
    {
     "data": {
      "application/vnd.jupyter.widget-view+json": {
       "model_id": "92f2fbf2e2ea4543a2a1a884716f7850",
       "version_major": 2,
       "version_minor": 0
      },
      "text/plain": [
       "Evaluating:   0%|          | 0/2125 [00:00<?, ?it/s]"
      ]
     },
     "metadata": {},
     "output_type": "display_data"
    },
    {
     "name": "stdout",
     "output_type": "stream",
     "text": [
      "\n",
      "Epoch 3 Summary:\n",
      "Time: 25.5 min\n",
      "Train Loss: 0.1447 | Acc: 0.9602\n",
      "Val Loss: 0.3748 | Acc: 0.9078\n",
      "\n",
      "==================================================\n",
      "Testing Best Model...\n",
      "==================================================\n"
     ]
    },
    {
     "name": "stderr",
     "output_type": "stream",
     "text": [
      "C:\\Users\\adity\\AppData\\Local\\Temp\\ipykernel_5924\\2320288929.py:50: FutureWarning: You are using `torch.load` with `weights_only=False` (the current default value), which uses the default pickle module implicitly. It is possible to construct malicious pickle data which will execute arbitrary code during unpickling (See https://github.com/pytorch/pytorch/blob/main/SECURITY.md#untrusted-models for more details). In a future release, the default value for `weights_only` will be flipped to `True`. This limits the functions that could be executed during unpickling. Arbitrary objects will no longer be allowed to be loaded via this mode unless they are explicitly allowlisted by the user via `torch.serialization.add_safe_globals`. We recommend you start setting `weights_only=True` for any use case where you don't have full control of the loaded file. Please open an issue on GitHub for any issues related to this experimental feature.\n",
      "  model.load_state_dict(torch.load(MODEL_PATH))\n"
     ]
    },
    {
     "data": {
      "application/vnd.jupyter.widget-view+json": {
       "model_id": "b512906e75e541acaf2fc5e5c13b22d1",
       "version_major": 2,
       "version_minor": 0
      },
      "text/plain": [
       "Evaluating:   0%|          | 0/3750 [00:00<?, ?it/s]"
      ]
     },
     "metadata": {},
     "output_type": "display_data"
    },
    {
     "name": "stdout",
     "output_type": "stream",
     "text": [
      "\n",
      "Test Results → Loss: 0.2784 | Accuracy: 0.9129\n"
     ]
    }
   ],
   "source": [
    "\n",
    "# ------------------------ Run ------------------------\n",
    "if __name__ == '__main__':\n",
    "    train_model()\n"
   ]
  }
 ],
 "metadata": {
  "kernelspec": {
   "display_name": "Python 3",
   "language": "python",
   "name": "python3"
  },
  "language_info": {
   "codemirror_mode": {
    "name": "ipython",
    "version": 3
   },
   "file_extension": ".py",
   "mimetype": "text/x-python",
   "name": "python",
   "nbconvert_exporter": "python",
   "pygments_lexer": "ipython3",
   "version": "3.11.11"
  }
 },
 "nbformat": 4,
 "nbformat_minor": 5
}
