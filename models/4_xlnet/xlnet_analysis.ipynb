{
 "cells": [
  {
   "cell_type": "code",
   "execution_count": 55,
   "metadata": {},
   "outputs": [],
   "source": [
    "import  pandas as pd\n",
    "from transformers import XLNetTokenizer, XLNetForSequenceClassification\n",
    "from sklearn.metrics import accuracy_score, precision_score, recall_score, f1_score, classification_report, confusion_matrix\n",
    "import torch\n",
    "from sklearn.model_selection import train_test_split\n",
    "from torch.utils.data import DataLoader, TensorDataset\n",
    "import matplotlib.pyplot as plt\n",
    "import seaborn as sns"
   ]
  },
  {
   "cell_type": "code",
   "execution_count": 56,
   "metadata": {},
   "outputs": [
    {
     "name": "stdout",
     "output_type": "stream",
     "text": [
      "Using device: cuda\n"
     ]
    }
   ],
   "source": [
    "# Set device\n",
    "device = torch.device('cuda' if torch.cuda.is_available() else 'cpu')\n",
    "print(f\"Using device: {device}\")"
   ]
  },
  {
   "cell_type": "code",
   "execution_count": 57,
   "metadata": {},
   "outputs": [],
   "source": [
    "BATCH_SIZE = 2\n",
    "MAX_LEN = 256\n",
    "TEST_SAMPLE_SIZE = 7500"
   ]
  },
  {
   "cell_type": "code",
   "execution_count": 58,
   "metadata": {},
   "outputs": [],
   "source": [
    "dataset_path = \"../../data/raw/IMDB Dataset.csv\"  \n",
    "\n",
    "# Load and prepare dataset\n",
    "def load_imdb_data(path):\n",
    "    # Modify this function based on your IMDB dataset format\n",
    "    # Example if using CSV with 'review' and 'sentiment' columns\n",
    "    df = pd.read_csv(path)\n",
    "    df.columns = ['sentence', 'value']  # Standardizing column names\n",
    "    return df\n",
    "\n",
    "fd = load_imdb_data(dataset_path)"
   ]
  },
  {
   "cell_type": "code",
   "execution_count": 59,
   "metadata": {},
   "outputs": [],
   "source": [
    "# Add special tokens\n",
    "sentences = fd['sentence'].astype(str).tolist()"
   ]
  },
  {
   "cell_type": "code",
   "execution_count": 60,
   "metadata": {},
   "outputs": [],
   "source": [
    "# Tokenization\n",
    "tokenizer = XLNetTokenizer.from_pretrained('xlnet-base-cased', do_lower_case=True)\n",
    "\n",
    "# Encode sentences\n",
    "encoded = tokenizer(\n",
    "    sentences,\n",
    "    add_special_tokens=True,\n",
    "    max_length=256,\n",
    "    padding='max_length',\n",
    "    truncation=True,\n",
    "    return_tensors='pt'\n",
    ")"
   ]
  },
  {
   "cell_type": "code",
   "execution_count": 61,
   "metadata": {},
   "outputs": [],
   "source": [
    "# Pad sequences\n",
    "# Extract inputs\n",
    "input_ids = encoded['input_ids']\n",
    "attention_mask = encoded['attention_mask']\n",
    "\n",
    "# Map labels\n",
    "label_mapping = {'negative': 0, 'positive': 1}\n",
    "fd['label'] = fd['value'].map(label_mapping)\n",
    "labels = torch.tensor(fd['label'].values.astype('int64'))"
   ]
  },
  {
   "cell_type": "code",
   "execution_count": 62,
   "metadata": {},
   "outputs": [
    {
     "name": "stderr",
     "output_type": "stream",
     "text": [
      "C:\\Users\\adity\\AppData\\Local\\Temp\\ipykernel_8776\\3235989527.py:6: UserWarning: To copy construct from a tensor, it is recommended to use sourceTensor.clone().detach() or sourceTensor.clone().detach().requires_grad_(True), rather than torch.tensor(sourceTensor).\n",
      "  train_data = TensorDataset(xtrain_ids, xtrain_mask, torch.tensor(ytrain, dtype=torch.long))\n",
      "C:\\Users\\adity\\AppData\\Local\\Temp\\ipykernel_8776\\3235989527.py:7: UserWarning: To copy construct from a tensor, it is recommended to use sourceTensor.clone().detach() or sourceTensor.clone().detach().requires_grad_(True), rather than torch.tensor(sourceTensor).\n",
      "  test_data = TensorDataset(xtest_ids, xtest_mask, torch.tensor(ytest, dtype=torch.long))\n"
     ]
    }
   ],
   "source": [
    "# Split all components\n",
    "xtrain_ids, xtest_ids, ytrain, ytest = train_test_split(input_ids, labels, test_size=0.15, random_state=42)\n",
    "xtrain_mask, xtest_mask, _, _ = train_test_split(attention_mask, labels, test_size=0.15, random_state=42)\n",
    "\n",
    "# Convert to TensorDataset with attention_mask\n",
    "train_data = TensorDataset(xtrain_ids, xtrain_mask, torch.tensor(ytrain, dtype=torch.long))\n",
    "test_data = TensorDataset(xtest_ids, xtest_mask, torch.tensor(ytest, dtype=torch.long))"
   ]
  },
  {
   "cell_type": "code",
   "execution_count": 63,
   "metadata": {},
   "outputs": [
    {
     "name": "stderr",
     "output_type": "stream",
     "text": [
      "Some weights of XLNetForSequenceClassification were not initialized from the model checkpoint at xlnet-base-cased and are newly initialized: ['logits_proj.bias', 'logits_proj.weight', 'sequence_summary.summary.bias', 'sequence_summary.summary.weight']\n",
      "You should probably TRAIN this model on a down-stream task to be able to use it for predictions and inference.\n",
      "C:\\Users\\adity\\AppData\\Local\\Temp\\ipykernel_8776\\3369853446.py:4: FutureWarning: You are using `torch.load` with `weights_only=False` (the current default value), which uses the default pickle module implicitly. It is possible to construct malicious pickle data which will execute arbitrary code during unpickling (See https://github.com/pytorch/pytorch/blob/main/SECURITY.md#untrusted-models for more details). In a future release, the default value for `weights_only` will be flipped to `True`. This limits the functions that could be executed during unpickling. Arbitrary objects will no longer be allowed to be loaded via this mode unless they are explicitly allowlisted by the user via `torch.serialization.add_safe_globals`. We recommend you start setting `weights_only=True` for any use case where you don't have full control of the loaded file. Please open an issue on GitHub for any issues related to this experimental feature.\n",
      "  model.load_state_dict(torch.load(\"xlnet_imdb_model.pth\", map_location=device))\n",
      "C:\\Users\\adity\\AppData\\Local\\Temp\\ipykernel_8776\\3369853446.py:4: FutureWarning: You are using `torch.load` with `weights_only=False` (the current default value), which uses the default pickle module implicitly. It is possible to construct malicious pickle data which will execute arbitrary code during unpickling (See https://github.com/pytorch/pytorch/blob/main/SECURITY.md#untrusted-models for more details). In a future release, the default value for `weights_only` will be flipped to `True`. This limits the functions that could be executed during unpickling. Arbitrary objects will no longer be allowed to be loaded via this mode unless they are explicitly allowlisted by the user via `torch.serialization.add_safe_globals`. We recommend you start setting `weights_only=True` for any use case where you don't have full control of the loaded file. Please open an issue on GitHub for any issues related to this experimental feature.\n",
      "  model.load_state_dict(torch.load(\"xlnet_imdb_model.pth\", map_location=device))\n"
     ]
    },
    {
     "data": {
      "text/plain": [
       "XLNetForSequenceClassification(\n",
       "  (transformer): XLNetModel(\n",
       "    (word_embedding): Embedding(32000, 768)\n",
       "    (layer): ModuleList(\n",
       "      (0-11): 12 x XLNetLayer(\n",
       "        (rel_attn): XLNetRelativeAttention(\n",
       "          (layer_norm): LayerNorm((768,), eps=1e-12, elementwise_affine=True)\n",
       "          (dropout): Dropout(p=0.1, inplace=False)\n",
       "        )\n",
       "        (ff): XLNetFeedForward(\n",
       "          (layer_norm): LayerNorm((768,), eps=1e-12, elementwise_affine=True)\n",
       "          (layer_1): Linear(in_features=768, out_features=3072, bias=True)\n",
       "          (layer_2): Linear(in_features=3072, out_features=768, bias=True)\n",
       "          (dropout): Dropout(p=0.1, inplace=False)\n",
       "          (activation_function): GELUActivation()\n",
       "        )\n",
       "        (dropout): Dropout(p=0.1, inplace=False)\n",
       "      )\n",
       "    )\n",
       "    (dropout): Dropout(p=0.1, inplace=False)\n",
       "  )\n",
       "  (sequence_summary): SequenceSummary(\n",
       "    (summary): Linear(in_features=768, out_features=768, bias=True)\n",
       "    (activation): Tanh()\n",
       "    (first_dropout): Identity()\n",
       "    (last_dropout): Dropout(p=0.1, inplace=False)\n",
       "  )\n",
       "  (logits_proj): Linear(in_features=768, out_features=2, bias=True)\n",
       ")"
      ]
     },
     "execution_count": 63,
     "metadata": {},
     "output_type": "execute_result"
    }
   ],
   "source": [
    "# Load tokenizer and model\n",
    "tokenizer = XLNetTokenizer.from_pretrained('xlnet-base-cased')\n",
    "model = XLNetForSequenceClassification.from_pretrained('xlnet-base-cased', num_labels=2)\n",
    "model.load_state_dict(torch.load(\"xlnet_imdb_model.pth\", map_location=device))\n",
    "\n",
    "# Ensure model is moved to the same device as the inputs\n",
    "model = model.to(device)\n",
    "\n",
    "model.eval()"
   ]
  },
  {
   "cell_type": "code",
   "execution_count": 64,
   "metadata": {},
   "outputs": [],
   "source": [
    "# Create the test dataset correctly\n",
    "test_dataset = TensorDataset(xtest_ids, xtest_mask, ytest)  # xtest_ids is input_ids, xtest_mask is attention_mask\n",
    "test_loader = DataLoader(test_dataset, batch_size=2, shuffle=False)\n",
    "all_preds = []\n",
    "all_labels = []"
   ]
  },
  {
   "cell_type": "code",
   "execution_count": 65,
   "metadata": {},
   "outputs": [],
   "source": [
    "# Evaluation loop\n",
    "model.eval()  # Put model in eval mode\n",
    "with torch.no_grad():\n",
    "    for batch in test_loader:\n",
    "        # Ensure all tensors are moved to the same device\n",
    "        input_ids, attention_mask, labels = [b.to(device) for b in batch]\n",
    "\n",
    "        # Forward pass with attention_mask\n",
    "        outputs = model(input_ids=input_ids, attention_mask=attention_mask)\n",
    "        logits = outputs.logits  # Or outputs[0] depending on version\n",
    "\n",
    "        preds = torch.argmax(logits, dim=1)\n",
    "        all_preds.extend(preds.cpu().tolist())\n",
    "        all_labels.extend(labels.cpu().tolist())"
   ]
  },
  {
   "cell_type": "code",
   "execution_count": 66,
   "metadata": {},
   "outputs": [],
   "source": [
    "# Compute evaluation metrics\n",
    "acc = accuracy_score(all_labels, all_preds)\n",
    "precision = precision_score(all_labels, all_preds)\n",
    "recall = recall_score(all_labels, all_preds)\n",
    "f1 = f1_score(all_labels, all_preds)\n"
   ]
  },
  {
   "cell_type": "code",
   "execution_count": null,
   "metadata": {},
   "outputs": [
    {
     "name": "stdout",
     "output_type": "stream",
     "text": [
      "\n",
      "==================================================\n",
      "XLNet Model Evaluation Metrics (on IMDB)\n",
      "==================================================\n",
      "Accuracy:  0.9236\n",
      "F1 Score:  0.9240\n",
      "Precision: 0.9298\n",
      "Recall:    0.9182\n"
     ]
    }
   ],
   "source": [
    "print(\"\\n\" + \"=\"*50)\n",
    "print(\"XLNet Model Evaluation Metrics (on IMDB)\")\n",
    "print(\"=\"*50)\n",
    "print(f\"Accuracy:  {acc:.4f}\")\n",
    "print(f\"F1 Score:  {f1:.4f}\")\n",
    "print(f\"Precision: {precision:.4f}\")\n",
    "print(f\"Recall:    {recall:.4f}\")"
   ]
  },
  {
   "cell_type": "code",
   "execution_count": 73,
   "metadata": {},
   "outputs": [
    {
     "data": {
      "image/png": "[encoded data removed]",
      "text/plain": [
       "<Figure size 640x480 with 2 Axes>"
      ]
     },
     "metadata": {},
     "output_type": "display_data"
    }
   ],
   "source": [
    "from sklearn.metrics import ConfusionMatrixDisplay\n",
    "\n",
    "# Confusion matrix\n",
    "cm = confusion_matrix(all_labels, all_preds)\n",
    "disp = ConfusionMatrixDisplay(confusion_matrix=cm, display_labels=['Negative', 'Positive'])\n",
    "disp.plot(cmap=plt.cm.Blues)\n",
    "plt.title(\"Confusion Matrix\")\n",
    "plt.show()"
   ]
  },
  {
   "cell_type": "code",
   "execution_count": 71,
   "metadata": {},
   "outputs": [],
   "source": [
    "import torch.nn.functional as F\n",
    "\n",
    "# Label map\n",
    "label_map = {0: \"negative\", 1: \"positive\"}\n",
    "\n",
    "\n",
    "def predict_sentiment(text, true_label=None):\n",
    "    \"\"\"\n",
    "    Predicts sentiment of a given text using XLNet model.\n",
    "    Optionally computes metrics if true label is provided.\n",
    "    \"\"\"\n",
    "    # Tokenize\n",
    "    encoded = tokenizer.encode_plus(\n",
    "        text,\n",
    "        add_special_tokens=True,\n",
    "        max_length=256,\n",
    "        padding='max_length',\n",
    "        truncation=True,\n",
    "        return_tensors='pt'\n",
    "    )\n",
    "\n",
    "    input_ids = encoded['input_ids'].to(device)\n",
    "    attention_mask = encoded['attention_mask'].to(device)\n",
    "\n",
    "    # Predict\n",
    "    with torch.no_grad():\n",
    "        outputs = model(input_ids=input_ids, attention_mask=attention_mask)\n",
    "        logits = outputs.logits\n",
    "        probs = F.softmax(logits, dim=1)\n",
    "        confidence, predicted_class = torch.max(probs, dim=1)\n",
    "\n",
    "    predicted_label = predicted_class.item()\n",
    "    confidence_score = confidence.item()\n",
    "\n",
    "    print(\"\\n=====================================\")\n",
    "    print(f\"Input Text: {text}\")\n",
    "    print(f\"Predicted Label: {label_map[predicted_label]}\")\n",
    "    print(f\"Confidence: {confidence_score:.4f}\")\n",
    "    print(\"=====================================\")\n",
    "\n",
    "    # Optional metrics\n",
    "    if true_label is not None:\n",
    "        if isinstance(true_label, str):\n",
    "            true_label = 1 if true_label.lower() == 'positive' else 0\n",
    "\n",
    "        accuracy = accuracy_score([true_label], [predicted_label])\n",
    "        precision = precision_score([true_label], [predicted_label], zero_division=0)\n",
    "        recall = recall_score([true_label], [predicted_label], zero_division=0)\n",
    "        f1 = f1_score([true_label], [predicted_label], zero_division=0)\n",
    "\n",
    "        print(\"Evaluation Metrics:\")\n",
    "        print(f\"Accuracy : {accuracy:.4f}\")\n",
    "        print(f\"Precision: {precision:.4f}\")\n",
    "        print(f\"Recall   : {recall:.4f}\")\n",
    "        print(f\"F1 Score : {f1:.4f}\")\n",
    "        print(\"=====================================\")\n",
    "\n",
    "    return label_map[predicted_label], confidence_score\n"
   ]
  },
  {
   "cell_type": "code",
   "execution_count": 72,
   "metadata": {},
   "outputs": [
    {
     "name": "stdout",
     "output_type": "stream",
     "text": [
      "\n",
      "=====================================\n",
      "Input Text: The movie was very boring and too long.\n",
      "Predicted Label: negative\n",
      "Confidence: 0.9959\n",
      "=====================================\n"
     ]
    },
    {
     "data": {
      "text/plain": [
       "('negative', 0.9958928823471069)"
      ]
     },
     "execution_count": 72,
     "metadata": {},
     "output_type": "execute_result"
    }
   ],
   "source": [
    "predict_sentiment(\"The movie was very boring and too long.\")"
   ]
  }
 ],
 "metadata": {
  "kernelspec": {
   "display_name": "Python 3",
   "language": "python",
   "name": "python3"
  },
  "language_info": {
   "codemirror_mode": {
    "name": "ipython",
    "version": 3
   },
   "file_extension": ".py",
   "mimetype": "text/x-python",
   "name": "python",
   "nbconvert_exporter": "python",
   "pygments_lexer": "ipython3",
   "version": "3.11.11"
  }
 },
 "nbformat": 4,
 "nbformat_minor": 4
}
